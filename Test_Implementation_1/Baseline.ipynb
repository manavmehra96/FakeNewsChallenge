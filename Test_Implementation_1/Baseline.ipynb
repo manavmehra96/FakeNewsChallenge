{
 "cells": [
  {
   "cell_type": "code",
   "execution_count": 9,
   "metadata": {},
   "outputs": [
    {
     "name": "stdout",
     "output_type": "stream",
     "text": [
      "<bound method NDFrame.head of       Body ID                                        articleBody\n",
      "0           0  A small meteorite crashed into a wooded area i...\n",
      "1           4  Last week we hinted at what was to come as Ebo...\n",
      "2           5  (NEWSER) – Wonder how long a Quarter Pounder w...\n",
      "3           6  Posting photos of a gun-toting child online, I...\n",
      "4           7  At least 25 suspected Boko Haram insurgents we...\n",
      "...       ...                                                ...\n",
      "1678     2528  Intelligence agencies hunting for identity of ...\n",
      "1679     2529  While Daleks \"know no fear\" and \"must not fear...\n",
      "1680     2530  More than 200 schoolgirls were kidnapped in Ap...\n",
      "1681     2531  A Guantanamo Bay prisoner released last year a...\n",
      "1682     2532  ANN ARBOR, Mich. – A pizza delivery man in Mic...\n",
      "\n",
      "[1683 rows x 2 columns]>\n",
      "<bound method NDFrame.head of                                                 Headline  Body ID  Stance\n",
      "0      Police find mass graves with at least '15 bodi...      712       3\n",
      "1      Hundreds of Palestinians flee floods in Gaza a...      158       0\n",
      "2      Christian Bale passes on role of Steve Jobs, a...      137       3\n",
      "3      HBO and Apple in Talks for $15/Month Apple TV ...     1034       3\n",
      "4      Spider burrowed through tourist's stomach and ...     1923       1\n",
      "...                                                  ...      ...     ...\n",
      "49967  Urgent: The Leader of ISIL 'Abu Bakr al-Baghda...     1681       3\n",
      "49968  Brian Williams slams social media for speculat...     2419       3\n",
      "49969  Mexico Says Missing Students Not Found In Firs...     1156       0\n",
      "49970  US Lawmaker: Ten ISIS Fighters Have Been Appre...     1012       2\n",
      "49971  Shots Heard In Alleged Brown Shooting Recordin...     2044       3\n",
      "\n",
      "[49972 rows x 3 columns]>\n",
      "<bound method NDFrame.head of      Body ID                                        articleBody\n",
      "0          1  Al-Sisi has denied Israeli reports stating tha...\n",
      "1          2  A bereaved Afghan mother took revenge on the T...\n",
      "2          3  CNBC is reporting Tesla has chosen Nevada as t...\n",
      "3         12  A 4-inch version of the iPhone 6 is said to be...\n",
      "4         19  GR editor’s Note\\n\\nThere are no reports in th...\n",
      "..       ...                                                ...\n",
      "899     2582  Congressional Republicans, evidently hoping th...\n",
      "900     2583  Did Obamacare work?\\n\\nIt’s worth reflecting u...\n",
      "901     2584  Millions may lose coverage next year if Congre...\n",
      "902     2585  Come November, the grim trudge across the incr...\n",
      "903     2586  Remember how much Republicans wanted to repeal...\n",
      "\n",
      "[904 rows x 2 columns]>\n",
      "<bound method NDFrame.head of                                                 Headline  Body ID  Stance\n",
      "0      Ferguson riots: Pregnant woman loses eye after...     2008       3\n",
      "1      Crazy Conservatives Are Sure a Gitmo Detainee ...     1550       3\n",
      "2      A Russian Guy Says His Justin Bieber Ringtone ...        2       3\n",
      "3      Zombie Cat: Buried Kitty Believed Dead, Meows ...     1793       3\n",
      "4      Argentina's President Adopts Boy to End Werewo...       37       3\n",
      "...                                                  ...      ...     ...\n",
      "25408  The success of the Affordable Care Act is a hu...     2582       0\n",
      "25409  The success of the Affordable Care Act is a hu...     2583       2\n",
      "25410  The success of the Affordable Care Act is a hu...     2584       1\n",
      "25411  The success of the Affordable Care Act is a hu...     2585       1\n",
      "25412  The success of the Affordable Care Act is a hu...     2586       0\n",
      "\n",
      "[25413 rows x 3 columns]>\n",
      "(49972, 1)\n",
      "(25413, 1)\n"
     ]
    }
   ],
   "source": [
    "import csv\n",
    "import pandas as pd\n",
    "\n",
    "FIELDNAMES = ['Headline', 'Body ID', 'Stance']\n",
    "Labels = ['agree', 'disagree', 'discuss', 'unrelated']\n",
    "\n",
    "def read_bodies(path):\n",
    "    df = pd.read_csv(path)\n",
    "    print(df.head)\n",
    "    Dict = {}\n",
    "    for index, row in df.iterrows():\n",
    "        Dict[int(row['Body ID'])] = index\n",
    "    #print(len(Dict))\n",
    "    return df,Dict\n",
    "\n",
    "def read_stances(path):\n",
    "    df = pd.read_csv(path)\n",
    "    di = { Labels[0]:0, Labels[1]:1, Labels[2]:2, Labels[3]:3 }\n",
    "    #print(df.head)\n",
    "    df['Stance'].replace(di, inplace=True)\n",
    "    print(df.head)\n",
    "    return df\n",
    "\n",
    "trainBodiesPath = \"../fnc-1-baseline-master/fnc-1/train_bodies.csv\"\n",
    "trainStancesPath = \"../fnc-1-baseline-master/fnc-1/train_stances.csv\"\n",
    "testBodiesPath = \"../fnc-1-baseline-master/fnc-1/competition_test_bodies.csv\"\n",
    "testStancesPath = \"../fnc-1-baseline-master/fnc-1/competition_test_stances.csv\"\n",
    "train_articles_df,train_dic_articleId_index = read_bodies(trainBodiesPath)\n",
    "train_stances_df = read_stances(trainStancesPath)\n",
    "train_labels = train_stances_df[['Stance']].values\n",
    "\n",
    "test_articles_df,test_dic_articleId_index = read_bodies(testBodiesPath)\n",
    "test_stances_df = read_stances(testStancesPath)\n",
    "test_labels = test_stances_df[['Stance']].values\n",
    "\n",
    "print(train_labels.shape)\n",
    "print(test_labels.shape)"
   ]
  },
  {
   "cell_type": "code",
   "execution_count": 10,
   "metadata": {},
   "outputs": [
    {
     "data": {
      "text/plain": [
       "TfidfVectorizer(analyzer='word', binary=False, decode_error='strict',\n",
       "                dtype=<class 'numpy.float64'>, encoding='utf-8',\n",
       "                input='content', lowercase=True, max_df=1.0, max_features=5000,\n",
       "                min_df=1, ngram_range=(1, 1), norm='l2', preprocessor=None,\n",
       "                smooth_idf=True,\n",
       "                stop_words=['a', 'about', 'above', 'across', 'after',\n",
       "                            'afterwards', 'again', 'against', 'all', 'almost',\n",
       "                            'alone', 'along', 'already', 'also', 'although',\n",
       "                            'always', 'am', 'among', 'amongst', 'amoungst',\n",
       "                            'amount', 'an', 'and', 'another', 'any', 'anyhow',\n",
       "                            'anyone', 'anything', 'anyway', 'anywhere', ...],\n",
       "                strip_accents=None, sublinear_tf=False,\n",
       "                token_pattern='(?u)\\\\b\\\\w\\\\w+\\\\b', tokenizer=None, use_idf=True,\n",
       "                vocabulary=None)"
      ]
     },
     "execution_count": 10,
     "metadata": {},
     "output_type": "execute_result"
    }
   ],
   "source": [
    "from sklearn.feature_extraction.text import CountVectorizer,TfidfVectorizer\n",
    "\n",
    "stopWords = [\n",
    "        \"a\", \"about\", \"above\", \"across\", \"after\", \"afterwards\", \"again\", \"against\", \"all\", \"almost\", \"alone\", \"along\",\n",
    "        \"already\", \"also\", \"although\", \"always\", \"am\", \"among\", \"amongst\", \"amoungst\", \"amount\", \"an\", \"and\", \"another\",\n",
    "        \"any\", \"anyhow\", \"anyone\", \"anything\", \"anyway\", \"anywhere\", \"are\", \"around\", \"as\", \"at\", \"back\", \"be\",\n",
    "        \"became\", \"because\", \"become\", \"becomes\", \"becoming\", \"been\", \"before\", \"beforehand\", \"behind\", \"being\",\n",
    "        \"below\", \"beside\", \"besides\", \"between\", \"beyond\", \"bill\", \"both\", \"bottom\", \"but\", \"by\", \"call\", \"can\", \"co\",\n",
    "        \"con\", \"could\", \"cry\", \"de\", \"describe\", \"detail\", \"do\", \"done\", \"down\", \"due\", \"during\", \"each\", \"eg\", \"eight\",\n",
    "        \"either\", \"eleven\", \"else\", \"elsewhere\", \"empty\", \"enough\", \"etc\", \"even\", \"ever\", \"every\", \"everyone\",\n",
    "        \"everything\", \"everywhere\", \"except\", \"few\", \"fifteen\", \"fifty\", \"fill\", \"find\", \"fire\", \"first\", \"five\", \"for\",\n",
    "        \"former\", \"formerly\", \"forty\", \"found\", \"four\", \"from\", \"front\", \"full\", \"further\", \"get\", \"give\", \"go\", \"had\",\n",
    "        \"has\", \"have\", \"he\", \"hence\", \"her\", \"here\", \"hereafter\", \"hereby\", \"herein\", \"hereupon\", \"hers\", \"herself\",\n",
    "        \"him\", \"himself\", \"his\", \"how\", \"however\", \"hundred\", \"i\", \"ie\", \"if\", \"in\", \"inc\", \"indeed\", \"interest\",\n",
    "        \"into\", \"is\", \"it\", \"its\", \"itself\", \"keep\", \"last\", \"latter\", \"latterly\", \"least\", \"less\", \"ltd\", \"made\",\n",
    "        \"many\", \"may\", \"me\", \"meanwhile\", \"might\", \"mill\", \"mine\", \"more\", \"moreover\", \"most\", \"mostly\", \"move\", \"much\",\n",
    "        \"must\", \"my\", \"myself\", \"name\", \"namely\", \"neither\", \"nevertheless\", \"next\", \"nine\", \"nobody\", \"now\", \"nowhere\",\n",
    "        \"of\", \"off\", \"often\", \"on\", \"once\", \"one\", \"only\", \"onto\", \"or\", \"other\", \"others\", \"otherwise\", \"our\", \"ours\",\n",
    "        \"ourselves\", \"out\", \"over\", \"own\", \"part\", \"per\", \"perhaps\", \"please\", \"put\", \"rather\", \"re\", \"same\", \"see\",\n",
    "        \"serious\", \"several\", \"she\", \"should\", \"show\", \"side\", \"since\", \"sincere\", \"six\", \"sixty\", \"so\", \"some\",\n",
    "        \"somehow\", \"someone\", \"something\", \"sometime\", \"sometimes\", \"somewhere\", \"still\", \"such\", \"system\", \"take\",\n",
    "        \"ten\", \"than\", \"that\", \"the\", \"their\", \"them\", \"themselves\", \"then\", \"thence\", \"there\", \"thereafter\", \"thereby\",\n",
    "        \"therefore\", \"therein\", \"thereupon\", \"these\", \"they\", \"thick\", \"thin\", \"third\", \"this\", \"those\", \"though\",\n",
    "        \"three\", \"through\", \"throughout\", \"thru\", \"thus\", \"to\", \"together\", \"too\", \"top\", \"toward\", \"towards\", \"twelve\",\n",
    "        \"twenty\", \"two\", \"un\", \"under\", \"until\", \"up\", \"upon\", \"us\", \"very\", \"via\", \"was\", \"we\", \"well\", \"were\", \"what\",\n",
    "        \"whatever\", \"when\", \"whence\", \"whenever\", \"where\", \"whereafter\", \"whereas\", \"whereby\", \"wherein\", \"whereupon\",\n",
    "        \"wherever\", \"whether\", \"which\", \"while\", \"whither\", \"who\", \"whoever\", \"whole\", \"whom\", \"whose\", \"why\", \"will\",\n",
    "        \"with\", \"within\", \"without\", \"would\", \"yet\", \"you\", \"your\", \"yours\", \"yourself\", \"yourselves\"\n",
    "        ]\n",
    "train_all_articles_list = []\n",
    "test_all_articles_list = []\n",
    "\n",
    "train_all_articles_list = train_articles_df['articleBody'].to_list()\n",
    "test_all_articles_list = test_articles_df['articleBody'].to_list()\n",
    "    \n",
    "train_headlines_list = train_stances_df['Headline'].to_list()\n",
    "test_headlines_list = test_stances_df['Headline'].to_list()\n",
    "#Headlines_list[:5]\n",
    "\n",
    "tf_vec = CountVectorizer(stop_words = stopWords, ngram_range = (1,1), max_features = 5000)\n",
    "tf_vec.fit(train_all_articles_list + train_headlines_list)\n",
    "#tf_vec.transform(train_articles_dict.values()).shape\n",
    "\n",
    "tfidf_vec = TfidfVectorizer(stop_words = stopWords, ngram_range = (1,1), max_features = 5000, norm = 'l2')\n",
    "tfidf_vec.fit(train_all_articles_list + train_headlines_list + test_all_articles_list + test_headlines_list)\n",
    "#tfidf_vec.transform(train_articles_dict.values()).shape\n"
   ]
  },
  {
   "cell_type": "code",
   "execution_count": 11,
   "metadata": {},
   "outputs": [
    {
     "name": "stdout",
     "output_type": "stream",
     "text": [
      "(49972, 5000)\n",
      "(25413, 5000)\n",
      "(49972, 5000)\n",
      "(25413, 5000)\n",
      "49972\n",
      "25413\n",
      "(49972, 5000)\n",
      "(25413, 5000)\n",
      "(49972, 5000)\n",
      "(25413, 5000)\n"
     ]
    }
   ],
   "source": [
    "train_hline_tf = tf_vec.transform(train_headlines_list)\n",
    "test_hline_tf = tf_vec.transform(test_headlines_list)\n",
    "\n",
    "\n",
    "\n",
    "train_hline_tfidf = tfidf_vec.transform(train_headlines_list)\n",
    "test_hline_tfidf = tfidf_vec.transform(test_headlines_list)\n",
    "\n",
    "\n",
    "\n",
    "print(train_hline_tf.shape)\n",
    "print(test_hline_tf.shape)\n",
    "print(train_hline_tfidf.shape)\n",
    "print(test_hline_tfidf.shape)\n",
    "\n",
    "\n",
    "\n",
    "\n",
    "train_article_list = []\n",
    "test_article_list = []\n",
    "\n",
    "for index, row in train_stances_df.iterrows():\n",
    "    train_article_list.append(train_articles_df.iloc[train_dic_articleId_index[int(row['Body ID'])]]['articleBody'])\n",
    "    #print(row['Body ID'])\n",
    "    #print(train_articles_df.iloc[train_dic_articleId_index[int(row['Body ID'])]]['articleBody'])\n",
    "\n",
    "for index, row in test_stances_df.iterrows():\n",
    "    test_article_list.append(test_articles_df.iloc[test_dic_articleId_index[int(row['Body ID'])]]['articleBody'])\n",
    "\n",
    "print(len(train_article_list))\n",
    "print(len(test_article_list))\n",
    "\n",
    "\n",
    "\n",
    "train_article_list_tf = tf_vec.transform(train_article_list)\n",
    "test_article_list_tf = tf_vec.transform(test_article_list)\n",
    "\n",
    "train_article_list_tfidf = tfidf_vec.transform(train_article_list)\n",
    "test_article_list_tfidf = tfidf_vec.transform(test_article_list)\n",
    "print(train_article_list_tf.shape)\n",
    "print(test_article_list_tf.shape)\n",
    "print(train_article_list_tfidf.shape)\n",
    "print(test_article_list_tfidf.shape)"
   ]
  },
  {
   "cell_type": "code",
   "execution_count": 12,
   "metadata": {},
   "outputs": [
    {
     "name": "stdout",
     "output_type": "stream",
     "text": [
      "[[0.        ]\n",
      " [0.40455841]\n",
      " [0.        ]\n",
      " [0.        ]\n",
      " [0.14184027]]\n",
      "[[0.        ]\n",
      " [0.        ]\n",
      " [0.01324968]\n",
      " [0.        ]\n",
      " [0.        ]]\n"
     ]
    }
   ],
   "source": [
    "import numpy as np\n",
    "from scipy.sparse import csr_matrix\n",
    "\n",
    "cos_similarity_train = np.zeros(shape=(train_hline_tfidf.shape[0],1))\n",
    "for x in range(train_hline_tfidf.shape[0]):\n",
    "    A = csr_matrix.todense(train_hline_tfidf[x])\n",
    "    B = csr_matrix.todense(train_article_list_tfidf[x])\n",
    "    #print(train_hline_tf[x])\n",
    "    cos_similarity_train[x] = np.dot(A,B.T)\n",
    "\n",
    "print(cos_similarity_train[:5])\n",
    "\n",
    "cos_similarity_test = np.zeros(shape=(test_hline_tfidf.shape[0],1))\n",
    "for x in range(test_hline_tfidf.shape[0]):\n",
    "    A = csr_matrix.todense(test_hline_tfidf[x])\n",
    "    B = csr_matrix.todense(test_article_list_tfidf[x])\n",
    "    #print(train_hline_tf[x])\n",
    "    cos_similarity_test[x] = np.dot(A,B.T)\n",
    "\n",
    "print(cos_similarity_test[:5])"
   ]
  },
  {
   "cell_type": "code",
   "execution_count": 13,
   "metadata": {},
   "outputs": [
    {
     "name": "stdout",
     "output_type": "stream",
     "text": [
      "(49972, 10001)\n",
      "(25413, 10001)\n"
     ]
    }
   ],
   "source": [
    "final_train_dense = np.zeros(shape=(train_hline_tfidf.shape[0],10001))\n",
    "final_test_dense = np.zeros(shape=(test_hline_tfidf.shape[0],10001))\n",
    "\n",
    "for x in range(train_hline_tfidf.shape[0]):\n",
    "    A = csr_matrix.todense(train_hline_tfidf[x])\n",
    "    B = csr_matrix.todense(train_article_list_tfidf[x])\n",
    "    C = cos_similarity_train[x]\n",
    "    #print(A.shape)\n",
    "    #print(B.shape)\n",
    "    #print(C.shape)\n",
    "    row = np.squeeze(np.c_[A, B, C])\n",
    "    final_train_dense[x] = row\n",
    "    #print(row.shape)\n",
    "    \n",
    "print(final_train_dense.shape)\n",
    "\n",
    "\n",
    "for x in range(test_hline_tfidf.shape[0]):\n",
    "    A = csr_matrix.todense(test_hline_tfidf[x])\n",
    "    B = csr_matrix.todense(test_article_list_tfidf[x])\n",
    "    C = cos_similarity_test[x]\n",
    "    #print(A.shape)\n",
    "    #print(B.shape)\n",
    "    #print(C.shape)\n",
    "    row = np.squeeze(np.c_[A, B, C])\n",
    "    final_test_dense[x] = row\n",
    "    #print(row.shape)\n",
    "    \n",
    "print(final_test_dense.shape)\n",
    "\n",
    "# t = hstack((hstack((train_hline_tf, cos_similarity_train)),train_article_list_tf))\n",
    "# final_test = hstack((hstack((test_hline_tf, cos_similarity_test)),test_article_list_tf))\n",
    "# print(final_train.shape)\n",
    "# print(train_labels.shape)\n",
    "# print(final_test.shape)\n",
    "# print(test_labels.shape)"
   ]
  },
  {
   "cell_type": "code",
   "execution_count": 14,
   "metadata": {},
   "outputs": [
    {
     "name": "stdout",
     "output_type": "stream",
     "text": [
      "(49972, 1)\n",
      "(25413, 1)\n",
      "[[3]\n",
      " [0]\n",
      " [3]\n",
      " ...\n",
      " [0]\n",
      " [2]\n",
      " [3]]\n",
      "[[0. 0. 0. 1.]\n",
      " [1. 0. 0. 0.]\n",
      " [0. 0. 0. 1.]\n",
      " ...\n",
      " [1. 0. 0. 0.]\n",
      " [0. 0. 1. 0.]\n",
      " [0. 0. 0. 1.]]\n",
      "[[3]\n",
      " [3]\n",
      " [3]\n",
      " ...\n",
      " [1]\n",
      " [1]\n",
      " [0]]\n",
      "[[0. 0. 0. 1.]\n",
      " [0. 0. 0. 1.]\n",
      " [0. 0. 0. 1.]\n",
      " ...\n",
      " [0. 1. 0. 0.]\n",
      " [0. 1. 0. 0.]\n",
      " [1. 0. 0. 0.]]\n"
     ]
    },
    {
     "name": "stderr",
     "output_type": "stream",
     "text": [
      "/Users/rajbir/opt/anaconda3/lib/python3.7/site-packages/sklearn/preprocessing/_encoders.py:415: FutureWarning: The handling of integer data will change in version 0.22. Currently, the categories are determined based on the range [0, max(values)], while in the future they will be determined based on the unique values.\n",
      "If you want the future behaviour and silence this warning, you can specify \"categories='auto'\".\n",
      "In case you used a LabelEncoder before this OneHotEncoder to convert the categories to integers, then you can now use the OneHotEncoder directly.\n",
      "  warnings.warn(msg, FutureWarning)\n",
      "/Users/rajbir/opt/anaconda3/lib/python3.7/site-packages/sklearn/preprocessing/_encoders.py:415: FutureWarning: The handling of integer data will change in version 0.22. Currently, the categories are determined based on the range [0, max(values)], while in the future they will be determined based on the unique values.\n",
      "If you want the future behaviour and silence this warning, you can specify \"categories='auto'\".\n",
      "In case you used a LabelEncoder before this OneHotEncoder to convert the categories to integers, then you can now use the OneHotEncoder directly.\n",
      "  warnings.warn(msg, FutureWarning)\n"
     ]
    }
   ],
   "source": [
    "from sklearn.preprocessing import OneHotEncoder\n",
    "print(train_labels.shape)\n",
    "print(test_labels.shape)\n",
    "\n",
    "print(train_labels)\n",
    "train_encoder = OneHotEncoder(sparse=False)\n",
    "train_labels = train_encoder.fit_transform(train_labels)\n",
    "print(train_labels)\n",
    "\n",
    "\n",
    "print(test_labels)\n",
    "test_encoder = OneHotEncoder(sparse=False)\n",
    "test_labels = test_encoder.fit_transform(test_labels)\n",
    "print(test_labels)"
   ]
  },
  {
   "cell_type": "code",
   "execution_count": 56,
   "metadata": {},
   "outputs": [
    {
     "name": "stdout",
     "output_type": "stream",
     "text": [
      "Model: \"sequential_19\"\n",
      "_________________________________________________________________\n",
      "Layer (type)                 Output Shape              Param #   \n",
      "=================================================================\n",
      "dense_33 (Dense)             (None, 100)               1000200   \n",
      "_________________________________________________________________\n",
      "dropout_22 (Dropout)         (None, 100)               0         \n",
      "_________________________________________________________________\n",
      "batch_normalization_2 (Batch (None, 100)               400       \n",
      "_________________________________________________________________\n",
      "dense_34 (Dense)             (None, 4)                 404       \n",
      "=================================================================\n",
      "Total params: 1,001,004\n",
      "Trainable params: 1,000,804\n",
      "Non-trainable params: 200\n",
      "_________________________________________________________________\n"
     ]
    }
   ],
   "source": [
    "import tensorflow as tf\n",
    "from tensorflow import keras\n",
    "from tensorflow.keras import layers\n",
    "model = keras.Sequential()\n",
    "model.add(layers.Dense(100,input_dim=final_train_dense.shape[1], activation=\"relu\"))\n",
    "model.add(layers.Dropout(0.6))\n",
    "model.add(layers.BatchNormalization())\n",
    "model.add(layers.Dense(4, activation=\"softmax\"))\n",
    "\n",
    "opt = keras.optimizers.Adam(learning_rate=0.01)\n",
    "model.compile(loss='binary_crossentropy', optimizer=opt, metrics=['accuracy'])\n",
    "model.summary()"
   ]
  },
  {
   "cell_type": "code",
   "execution_count": 57,
   "metadata": {},
   "outputs": [
    {
     "name": "stdout",
     "output_type": "stream",
     "text": [
      "Accuracy: 86.872858\n"
     ]
    }
   ],
   "source": [
    "model.fit(final_train_dense, train_labels, epochs=90, batch_size=500, verbose=0)\n",
    "#evaluate the model\n",
    "loss, accuracy = model.evaluate(final_test_dense, test_labels, verbose=0)\n",
    "print('Accuracy: %f' % (accuracy*100))"
   ]
  },
  {
   "cell_type": "code",
   "execution_count": 58,
   "metadata": {},
   "outputs": [
    {
     "name": "stdout",
     "output_type": "stream",
     "text": [
      "[3 3 3 3 3 3 3 3 3 3]\n",
      "['unrelated', 'unrelated', 'unrelated', 'unrelated', 'unrelated', 'unrelated', 'unrelated', 'unrelated', 'unrelated', 'unrelated']\n",
      "['unrelated', 'unrelated', 'unrelated', 'unrelated', 'unrelated', 'unrelated', 'unrelated', 'unrelated', 'unrelated', 'unrelated']\n",
      "-------------------------------------------------------------\n",
      "|           |   agree   | disagree  |  discuss  | unrelated |\n",
      "-------------------------------------------------------------\n",
      "|   agree   |    978    |     1     |    787    |    137    |\n",
      "-------------------------------------------------------------\n",
      "| disagree  |    300    |     5     |    281    |    111    |\n",
      "-------------------------------------------------------------\n",
      "|  discuss  |    758    |     5     |   3377    |    324    |\n",
      "-------------------------------------------------------------\n",
      "| unrelated |    184    |     4     |    444    |   17717   |\n",
      "-------------------------------------------------------------\n",
      "Score: 9322.25 out of 11651.25\t(80.01072846261131%)\n"
     ]
    },
    {
     "data": {
      "text/plain": [
       "80.01072846261131"
      ]
     },
     "execution_count": 58,
     "metadata": {},
     "output_type": "execute_result"
    }
   ],
   "source": [
    "from score import report_score\n",
    "ynew = model.predict_classes(final_test_dense)\n",
    "print(ynew[:10])\n",
    "predicted = [Labels[int(a)] for a in ynew]\n",
    "print(predicted[:10])\n",
    "y = test_stances_df['Stance'].tolist()\n",
    "actual = [Labels[int(a)] for a in y]\n",
    "print(actual[:10])\n",
    "report_score(actual,predicted)"
   ]
  },
  {
   "cell_type": "code",
   "execution_count": null,
   "metadata": {},
   "outputs": [],
   "source": []
  }
 ],
 "metadata": {
  "kernelspec": {
   "display_name": "Python 3",
   "language": "python",
   "name": "python3"
  },
  "language_info": {
   "codemirror_mode": {
    "name": "ipython",
    "version": 3
   },
   "file_extension": ".py",
   "mimetype": "text/x-python",
   "name": "python",
   "nbconvert_exporter": "python",
   "pygments_lexer": "ipython3",
   "version": "3.7.4"
  }
 },
 "nbformat": 4,
 "nbformat_minor": 2
}
